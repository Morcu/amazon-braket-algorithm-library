{
 "cells": [
  {
   "cell_type": "markdown",
   "metadata": {},
   "source": [
    "# Random Circuit\n",
    "Generates a random quantum circuit\n",
    "\n",
    "Random quantum circuits are important in quantum computing for several reasons:\n",
    "\n",
    "<u>Rapid Circuit Generation for Testing</u>\n",
    "\n",
    "Random quantum circuits are integral for quickly generating diverse and intricate test scenarios. This speed in creation allows for efficient and thorough testing of quantum computing systems, ensuring their readiness for complex tasks.\n",
    "\n",
    "<u> Enhancing Benchmarking and Hardware Evaluation</u>\n",
    "\n",
    "These circuits play a pivotal role in quantum benchmarking, providing a deeper and more accurate assessment of hardware quality and operational fidelity. This is crucial for ensuring that quantum systems meet the necessary standards for precision and reliability.\n",
    "\n",
    "<u> Comparing Quantum Architectures</u>\n",
    "\n",
    "These circuits enable objective and standardized comparisons across different quantum architectures. Such comparisons are fundamental to the advancement of quantum technology, ensuring that development is guided by accurate and impartial assessments.\n",
    "\n",
    "<u> Error Identification and System Optimization</u>\n",
    "\n",
    "By deploying random quantum circuits, it's possible to uncover error patterns and limitations within quantum hardware. This identification is key for continuous improvement and optimization of quantum computing systems.\n",
    "\n",
    "<u> Aiding Quantum Algorithm Development</u>\n",
    "\n",
    "Lastly, random quantum circuits are instrumental in the development and testing of quantum algorithms. They are particularly useful for algorithms that require diverse and complex configurations, making them an essential tool for advancing quantum computational research."
   ]
  },
  {
   "cell_type": "markdown",
   "metadata": {},
   "source": [
    "# Run on a local simulator"
   ]
  },
  {
   "cell_type": "code",
   "execution_count": 1,
   "metadata": {},
   "outputs": [
    {
     "name": "stdout",
     "output_type": "stream",
     "text": [
      "--Circuit--\n",
      "T  : |0|     1     |2|      3      |4|\n",
      "                                      \n",
      "q0 : -C-PSWAP(0.74)---C---------------\n",
      "      | |             |               \n",
      "q1 : -Z-|-----------V-|---------------\n",
      "        |           | |               \n",
      "q2 : ---PSWAP(0.74)-C-PHASE00(0.22)-Z-\n",
      "\n",
      "T  : |0|     1     |2|      3      |4|\n",
      "\n",
      "--Counts--\n",
      "Counter({'000': 100})\n"
     ]
    }
   ],
   "source": [
    "from braket.devices import LocalSimulator\n",
    "from braket.experimental.algorithms.random_circuit import random_circuit\n",
    "\n",
    "\n",
    "# Code here\n",
    "local_simulator = LocalSimulator()\n",
    "circuit = random_circuit(3,5,2,42)\n",
    "task = local_simulator.run(circuit, shots=100)\n",
    "result = task.result()\n",
    "print(\"--Circuit--\")\n",
    "print(circuit)\n",
    "print(\"\\n--Counts--\")\n",
    "print(result.measurement_counts)"
   ]
  }
 ],
 "metadata": {
  "kernelspec": {
   "display_name": "Python 3.9.5 64-bit ('braket')",
   "language": "python",
   "name": "python3"
  },
  "language_info": {
   "codemirror_mode": {
    "name": "ipython",
    "version": 3
   },
   "file_extension": ".py",
   "mimetype": "text/x-python",
   "name": "python",
   "nbconvert_exporter": "python",
   "pygments_lexer": "ipython3",
   "version": "3.10.7"
  },
  "orig_nbformat": 4,
  "vscode": {
   "interpreter": {
    "hash": "5904cb9a2089448a2e1aeb5d493d227c9de33e591d7c07e4016fb81e71061a5d"
   }
  }
 },
 "nbformat": 4,
 "nbformat_minor": 2
}
